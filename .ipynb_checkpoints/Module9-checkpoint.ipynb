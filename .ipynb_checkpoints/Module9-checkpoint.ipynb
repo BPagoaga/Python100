{
 "cells": [
  {
   "cell_type": "code",
   "execution_count": 2,
   "id": "1c3a1ff8-9c84-4385-8a41-4b7aa2603c11",
   "metadata": {},
   "outputs": [
    {
     "name": "stdout",
     "output_type": "stream",
     "text": [
      "17.221621621621622\n"
     ]
    }
   ],
   "source": [
    "# pseudo code\n",
    "tripDistance = 13.5\n",
    "fuelPrice = 3.54 # in dollars\n",
    "fuelEfficiency = 22.2 # miles\n",
    "# calculate round trip miles per day\n",
    "    # multiply trip distance by 2\n",
    "dailyTripDistance = 13.5 * 2\n",
    "# calculate round trip miles per week\n",
    "    # multiply by 4 (weekly commutes)\n",
    "weeklyTripDistance = dailyTripDistance * 4\n",
    "# calculate gallions consumption\n",
    "    # divide total trip miles by fuel efficiency\n",
    "totalFuelConsumption = weeklyTripDistance / fuelEfficiency # gallions\n",
    "# calculate total price\n",
    "    # multiply by fuel price\n",
    "totalCost = totalFuelConsumption * fuelPrice\n",
    "print(totalCost)"
   ]
  }
 ],
 "metadata": {
  "kernelspec": {
   "display_name": "Python 3 (ipykernel)",
   "language": "python",
   "name": "python3"
  },
  "language_info": {
   "codemirror_mode": {
    "name": "ipython",
    "version": 3
   },
   "file_extension": ".py",
   "mimetype": "text/x-python",
   "name": "python",
   "nbconvert_exporter": "python",
   "pygments_lexer": "ipython3",
   "version": "3.11.7"
  }
 },
 "nbformat": 4,
 "nbformat_minor": 5
}
