{
 "cells": [
  {
   "cell_type": "code",
   "execution_count": 3,
   "id": "5ebc459a-974f-4735-b9ff-b1f8a1db22c0",
   "metadata": {},
   "outputs": [
    {
     "name": "stdout",
     "output_type": "stream",
     "text": [
      "<class 'int'> <class 'str'> <class 'float'> <class 'bool'>\n",
      "38\n",
      "Bernard\n",
      "2.5\n",
      "True\n"
     ]
    }
   ],
   "source": [
    "age = 38 # my age\n",
    "fname = \"Bernard\" # my firstname\n",
    "coffeeMax = 2.50 # the max price I am willing to pay for a good coffe\n",
    "flag = True # I already programmed before\n",
    "\n",
    "print(type(age), type(fname), type(coffeeMax), type(flag))\n",
    "\n",
    "print(age)\n",
    "print(fname)\n",
    "print(coffeeMax)\n",
    "print(flag)"
   ]
  },
  {
   "cell_type": "code",
   "execution_count": 4,
   "id": "a4acbfe5-fb07-4004-948f-4d8166986ef4",
   "metadata": {},
   "outputs": [
    {
     "name": "stdout",
     "output_type": "stream",
     "text": [
      "9.99\n",
      "10.36962\n"
     ]
    }
   ],
   "source": [
    "price = 9.99 # the price at year zero, in dollars\n",
    "inflation = 3.8 # inflation rate by year, in percentage\n",
    "\n",
    "print(price)\n",
    "\n",
    "price = price + 3.8 * 9.99 / 100 # price increased after one year\n",
    "print(price)"
   ]
  },
  {
   "cell_type": "code",
   "execution_count": 5,
   "id": "d4e76dad-a9af-4f06-877f-03ef722c81b6",
   "metadata": {},
   "outputs": [
    {
     "name": "stdout",
     "output_type": "stream",
     "text": [
      "That's one small step for a man, a giant leap for mankind\n",
      "THAT'S ONE SMALL STEP FOR A MAN, A GIANT LEAP FOR MANKIND\n",
      "that's one small step for a man, a giant leap for mankind\n",
      "5\n",
      "That's one small step for a man, a giant leap for mankind\n"
     ]
    }
   ],
   "source": [
    "sentence = \"That's one small step for a man, a giant leap for mankind\"\n",
    "\n",
    "print(sentence)\n",
    "print(sentence.upper())\n",
    "print(sentence.lower())\n",
    "print(sentence.find(\"s\"))\n",
    "print(sentence)"
   ]
  }
 ],
 "metadata": {
  "kernelspec": {
   "display_name": "Python 3 (ipykernel)",
   "language": "python",
   "name": "python3"
  },
  "language_info": {
   "codemirror_mode": {
    "name": "ipython",
    "version": 3
   },
   "file_extension": ".py",
   "mimetype": "text/x-python",
   "name": "python",
   "nbconvert_exporter": "python",
   "pygments_lexer": "ipython3",
   "version": "3.11.7"
  }
 },
 "nbformat": 4,
 "nbformat_minor": 5
}
