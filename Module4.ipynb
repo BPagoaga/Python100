{
 "cells": [
  {
   "cell_type": "code",
   "execution_count": 1,
   "id": "df05f254-a3bd-4ae9-9e1d-4fd950b88ed0",
   "metadata": {},
   "outputs": [],
   "source": [
    "x = 5"
   ]
  },
  {
   "cell_type": "code",
   "execution_count": 2,
   "id": "14f94b24-fdb6-4a55-b675-af3890f583da",
   "metadata": {},
   "outputs": [],
   "source": [
    "y = 6.2"
   ]
  },
  {
   "cell_type": "code",
   "execution_count": 4,
   "id": "0bf0851b-52c5-43f5-a6a4-3dde932941f5",
   "metadata": {},
   "outputs": [
    {
     "name": "stdout",
     "output_type": "stream",
     "text": [
      "5 6.2\n"
     ]
    }
   ],
   "source": [
    "print(x, y)"
   ]
  },
  {
   "cell_type": "code",
   "execution_count": 5,
   "id": "1d911fee-5ea6-4c21-bb3e-0bb6a0cc071f",
   "metadata": {},
   "outputs": [
    {
     "data": {
      "text/plain": [
       "int"
      ]
     },
     "execution_count": 5,
     "metadata": {},
     "output_type": "execute_result"
    }
   ],
   "source": [
    "type(x)"
   ]
  },
  {
   "cell_type": "code",
   "execution_count": 6,
   "id": "369c277e-bf38-46c0-a923-c43e2cb775a3",
   "metadata": {},
   "outputs": [
    {
     "data": {
      "text/plain": [
       "float"
      ]
     },
     "execution_count": 6,
     "metadata": {},
     "output_type": "execute_result"
    }
   ],
   "source": [
    "type(y)"
   ]
  },
  {
   "cell_type": "code",
   "execution_count": 8,
   "id": "09a0789d-d53e-4c14-9b6f-99ab0ea0a47d",
   "metadata": {},
   "outputs": [],
   "source": [
    "x = 47"
   ]
  },
  {
   "cell_type": "code",
   "execution_count": 9,
   "id": "c7c501de-eade-4c7b-a2ca-4055ca332be7",
   "metadata": {},
   "outputs": [
    {
     "name": "stdout",
     "output_type": "stream",
     "text": [
      "47\n"
     ]
    }
   ],
   "source": [
    "print(x)"
   ]
  },
  {
   "cell_type": "code",
   "execution_count": 10,
   "id": "6e38dc59-7b80-47a1-9625-dba5570201d1",
   "metadata": {},
   "outputs": [],
   "source": [
    "X = 9"
   ]
  },
  {
   "cell_type": "code",
   "execution_count": 11,
   "id": "e2a7b191-da48-4cb0-afbf-556d1d9c1820",
   "metadata": {},
   "outputs": [
    {
     "name": "stdout",
     "output_type": "stream",
     "text": [
      "47 9\n"
     ]
    }
   ],
   "source": [
    "print(x, X)"
   ]
  },
  {
   "cell_type": "code",
   "execution_count": 12,
   "id": "bd1d94fd-7914-4e77-8e03-392cd786b4eb",
   "metadata": {},
   "outputs": [
    {
     "data": {
      "text/plain": [
       "47"
      ]
     },
     "execution_count": 12,
     "metadata": {},
     "output_type": "execute_result"
    }
   ],
   "source": [
    "x"
   ]
  },
  {
   "cell_type": "code",
   "execution_count": 14,
   "id": "1c9f84ca-672d-426c-b534-486c7a079a3c",
   "metadata": {},
   "outputs": [
    {
     "data": {
      "text/plain": [
       "53.2"
      ]
     },
     "execution_count": 14,
     "metadata": {},
     "output_type": "execute_result"
    }
   ],
   "source": [
    "x + y"
   ]
  },
  {
   "cell_type": "code",
   "execution_count": 15,
   "id": "c6bf0e34-f433-4a61-a8f7-ad2392bf4c3d",
   "metadata": {},
   "outputs": [],
   "source": [
    "sum = x + y"
   ]
  },
  {
   "cell_type": "code",
   "execution_count": 16,
   "id": "60aedb81-2333-479f-a7ce-2820561fa716",
   "metadata": {},
   "outputs": [
    {
     "data": {
      "text/plain": [
       "53.2"
      ]
     },
     "execution_count": 16,
     "metadata": {},
     "output_type": "execute_result"
    }
   ],
   "source": [
    "sum"
   ]
  },
  {
   "cell_type": "code",
   "execution_count": 17,
   "id": "49bd1cf2-7c7a-4f4c-85cf-4c0513d55ea3",
   "metadata": {},
   "outputs": [],
   "source": [
    "average = (x + y) / 2"
   ]
  },
  {
   "cell_type": "code",
   "execution_count": 18,
   "id": "ab8e7ed3-a94c-4714-8392-a86d55e09884",
   "metadata": {},
   "outputs": [
    {
     "data": {
      "text/plain": [
       "26.6"
      ]
     },
     "execution_count": 18,
     "metadata": {},
     "output_type": "execute_result"
    }
   ],
   "source": [
    "average"
   ]
  }
 ],
 "metadata": {
  "kernelspec": {
   "display_name": "Python 3 (ipykernel)",
   "language": "python",
   "name": "python3"
  },
  "language_info": {
   "codemirror_mode": {
    "name": "ipython",
    "version": 3
   },
   "file_extension": ".py",
   "mimetype": "text/x-python",
   "name": "python",
   "nbconvert_exporter": "python",
   "pygments_lexer": "ipython3",
   "version": "3.11.7"
  }
 },
 "nbformat": 4,
 "nbformat_minor": 5
}
