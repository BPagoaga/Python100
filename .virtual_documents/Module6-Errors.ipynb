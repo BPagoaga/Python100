# Syntax error: violation of rules of Python, will be shown in the output


## Semantic (programming logic) error: not always an error output, check if the output makes sense ? Expected vs actual


print(l)


x = 1
print(y)


print(x y)


price = 10 #price of purchased item
rate = 6 #sales tax rate


taxAmount = price * rate # logical error
print(taxAmount)



