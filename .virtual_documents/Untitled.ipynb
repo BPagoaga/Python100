name = input("What is your name ?")

print(name)


print("Hello " + name)


type(name)


name =1
type(name)


name = "Hello"+ name # no type coercion in python ?
print(name)
type(name)
