# Syntax error: violation of rules of Python, will be shown in the output


## Semantic (programming logic) error: not always an error output, check if the output makes sense ? Expected vs actual
