# pseudo code
tripDistance = 13.5
fuelPrice = 3.54 # in dollars
fuelEfficiency = 22.2 # miles
# calculate round trip miles per day
    # multiply trip distance by 2
dailyTripDistance = 13.5 * 2
# calculate round trip miles per week
    # multiply by 4 (weekly commutes)
weeklyTripDistance = dailyTripDistance * 4
# calculate gallions consumption
    # divide total trip miles by fuel efficiency
totalFuelConsumption = weeklyTripDistance / fuelEfficiency # gallions
# calculate total price
    # multiply by fuel price
totalCost = totalFuelConsumption * fuelPrice
print(totalCost)
