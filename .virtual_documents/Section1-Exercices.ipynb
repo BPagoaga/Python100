age = 38 # my age
fname = "Bernard" # my firstname
coffeeMax = 2.50 # the max price I am willing to pay for a good coffe
flag = True # I already programmed before

print(type(age), type(fname), type(coffeeMax), type(flag))

print(age)
print(fname)
print(coffeeMax)
print(flag)


price = 9.99 # the price at year zero, in dollars
inflation = 3.8 # inflation rate by year, in percentage

print(price)

price = price + 3.8 * 9.99 / 100 # price increased after one year
print(price)


sentence = "That's one small step for a man, a giant leap for mankind"

print(sentence)
print(sentence.upper())
print(sentence.lower())
print(sentence.find("s"))
print(sentence)
