{
 "cells": [
  {
   "cell_type": "code",
   "execution_count": 1,
   "id": "e62cf684-30a5-4c1d-8953-ff3d1941d3d6",
   "metadata": {},
   "outputs": [],
   "source": [
    "# Syntax error: violation of rules of Python, will be shown in the output"
   ]
  },
  {
   "cell_type": "code",
   "execution_count": 2,
   "id": "7171a1b3-48cf-4a6e-ab0b-a6aeb57c540f",
   "metadata": {},
   "outputs": [],
   "source": [
    "## Semantic (programming logic) error: not always an error output, check if the output makes sense ? Expected vs actual"
   ]
  }
 ],
 "metadata": {
  "kernelspec": {
   "display_name": "Python 3 (ipykernel)",
   "language": "python",
   "name": "python3"
  },
  "language_info": {
   "codemirror_mode": {
    "name": "ipython",
    "version": 3
   },
   "file_extension": ".py",
   "mimetype": "text/x-python",
   "name": "python",
   "nbconvert_exporter": "python",
   "pygments_lexer": "ipython3",
   "version": "3.11.7"
  }
 },
 "nbformat": 4,
 "nbformat_minor": 5
}
