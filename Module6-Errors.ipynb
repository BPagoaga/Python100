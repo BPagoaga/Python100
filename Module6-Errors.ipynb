{
 "cells": [
  {
   "cell_type": "code",
   "execution_count": 1,
   "id": "e62cf684-30a5-4c1d-8953-ff3d1941d3d6",
   "metadata": {},
   "outputs": [],
   "source": [
    "# Syntax error: violation of rules of Python, will be shown in the output"
   ]
  },
  {
   "cell_type": "code",
   "execution_count": 2,
   "id": "7171a1b3-48cf-4a6e-ab0b-a6aeb57c540f",
   "metadata": {},
   "outputs": [],
   "source": [
    "## Semantic (programming logic) error: not always an error output, check if the output makes sense ? Expected vs actual"
   ]
  },
  {
   "cell_type": "code",
   "execution_count": 1,
   "id": "2daef01c-3378-493c-a421-c53fbd191ca3",
   "metadata": {},
   "outputs": [
    {
     "ename": "NameError",
     "evalue": "name 'l' is not defined",
     "output_type": "error",
     "traceback": [
      "\u001b[0;31m---------------------------------------------------------------------------\u001b[0m",
      "\u001b[0;31mNameError\u001b[0m                                 Traceback (most recent call last)",
      "Cell \u001b[0;32mIn[1], line 1\u001b[0m\n\u001b[0;32m----> 1\u001b[0m \u001b[38;5;28mprint\u001b[39m(l)\n",
      "\u001b[0;31mNameError\u001b[0m: name 'l' is not defined"
     ]
    }
   ],
   "source": [
    "print(l)"
   ]
  },
  {
   "cell_type": "code",
   "execution_count": 2,
   "id": "90fd07d3-1887-4e20-ac3c-f502eab3173d",
   "metadata": {},
   "outputs": [
    {
     "ename": "NameError",
     "evalue": "name 'y' is not defined",
     "output_type": "error",
     "traceback": [
      "\u001b[0;31m---------------------------------------------------------------------------\u001b[0m",
      "\u001b[0;31mNameError\u001b[0m                                 Traceback (most recent call last)",
      "Cell \u001b[0;32mIn[2], line 2\u001b[0m\n\u001b[1;32m      1\u001b[0m x \u001b[38;5;241m=\u001b[39m \u001b[38;5;241m1\u001b[39m\n\u001b[0;32m----> 2\u001b[0m \u001b[38;5;28mprint\u001b[39m(y)\n",
      "\u001b[0;31mNameError\u001b[0m: name 'y' is not defined"
     ]
    }
   ],
   "source": [
    "x = 1\n",
    "print(y)"
   ]
  },
  {
   "cell_type": "code",
   "execution_count": 3,
   "id": "2885048d-7a06-4045-b292-42634563778e",
   "metadata": {},
   "outputs": [
    {
     "ename": "SyntaxError",
     "evalue": "invalid syntax. Perhaps you forgot a comma? (4092214543.py, line 1)",
     "output_type": "error",
     "traceback": [
      "\u001b[0;36m  Cell \u001b[0;32mIn[3], line 1\u001b[0;36m\u001b[0m\n\u001b[0;31m    print(x y)\u001b[0m\n\u001b[0m          ^\u001b[0m\n\u001b[0;31mSyntaxError\u001b[0m\u001b[0;31m:\u001b[0m invalid syntax. Perhaps you forgot a comma?\n"
     ]
    }
   ],
   "source": [
    "print(x y)"
   ]
  },
  {
   "cell_type": "code",
   "execution_count": 4,
   "id": "1acbc744-ffe1-4826-81f7-792402cda049",
   "metadata": {},
   "outputs": [],
   "source": [
    "price = 10 #price of purchased item\n",
    "rate = 6 #sales tax rate"
   ]
  },
  {
   "cell_type": "code",
   "execution_count": 6,
   "id": "fe550551-d4ac-489a-8920-a0d8ea2aa396",
   "metadata": {},
   "outputs": [
    {
     "name": "stdout",
     "output_type": "stream",
     "text": [
      "60\n"
     ]
    }
   ],
   "source": [
    "taxAmount = price * rate # logical error\n",
    "print(taxAmount)"
   ]
  },
  {
   "cell_type": "code",
   "execution_count": null,
   "id": "7c287173-f5e0-446e-97b5-43dc7ae21868",
   "metadata": {},
   "outputs": [],
   "source": []
  }
 ],
 "metadata": {
  "kernelspec": {
   "display_name": "Python 3 (ipykernel)",
   "language": "python",
   "name": "python3"
  },
  "language_info": {
   "codemirror_mode": {
    "name": "ipython",
    "version": 3
   },
   "file_extension": ".py",
   "mimetype": "text/x-python",
   "name": "python",
   "nbconvert_exporter": "python",
   "pygments_lexer": "ipython3",
   "version": "3.11.7"
  }
 },
 "nbformat": 4,
 "nbformat_minor": 5
}
