{
 "cells": [
  {
   "cell_type": "code",
   "execution_count": 1,
   "id": "1673d87b-4feb-4f03-8ab9-fe5aadce8dc5",
   "metadata": {},
   "outputs": [],
   "source": [
    "age = 20 # student age\n",
    "gpa = 3.5 # student gpa"
   ]
  },
  {
   "cell_type": "code",
   "execution_count": 2,
   "id": "041dbca6-d8ca-488a-8eed-3235a8cc219b",
   "metadata": {},
   "outputs": [
    {
     "data": {
      "text/plain": [
       "float"
      ]
     },
     "execution_count": 2,
     "metadata": {},
     "output_type": "execute_result"
    }
   ],
   "source": [
    "type(gpa)"
   ]
  },
  {
   "cell_type": "code",
   "execution_count": 3,
   "id": "ba536dd9-0073-4c12-a77f-93b335752712",
   "metadata": {},
   "outputs": [
    {
     "data": {
      "text/plain": [
       "int"
      ]
     },
     "execution_count": 3,
     "metadata": {},
     "output_type": "execute_result"
    }
   ],
   "source": [
    "type(age)"
   ]
  },
  {
   "cell_type": "code",
   "execution_count": 4,
   "id": "a81f7ffe-8c05-48c1-bea3-2039233a07df",
   "metadata": {},
   "outputs": [],
   "source": [
    "studentName = \"Mickey Mouse\""
   ]
  },
  {
   "cell_type": "code",
   "execution_count": 5,
   "id": "99e5e259-77d6-409d-819b-c90bd09b8d92",
   "metadata": {},
   "outputs": [
    {
     "data": {
      "text/plain": [
       "str"
      ]
     },
     "execution_count": 5,
     "metadata": {},
     "output_type": "execute_result"
    }
   ],
   "source": [
    "type(studentName)"
   ]
  },
  {
   "cell_type": "code",
   "execution_count": 6,
   "id": "abf75779-9c01-4a0c-999a-c081d1b322d0",
   "metadata": {},
   "outputs": [
    {
     "ename": "SyntaxError",
     "evalue": "invalid syntax (1296145003.py, line 1)",
     "output_type": "error",
     "traceback": [
      "\u001b[0;36m  Cell \u001b[0;32mIn[6], line 1\u001b[0;36m\u001b[0m\n\u001b[0;31m    pass = True\u001b[0m\n\u001b[0m         ^\u001b[0m\n\u001b[0;31mSyntaxError\u001b[0m\u001b[0;31m:\u001b[0m invalid syntax\n"
     ]
    }
   ],
   "source": [
    "pass = True"
   ]
  },
  {
   "cell_type": "code",
   "execution_count": 7,
   "id": "76292c1b-3aa9-41c6-8415-f88f95807071",
   "metadata": {},
   "outputs": [],
   "source": [
    "passing = True"
   ]
  },
  {
   "cell_type": "code",
   "execution_count": 8,
   "id": "13b026e5-de0c-4739-aaf0-ca8a9a649beb",
   "metadata": {},
   "outputs": [
    {
     "data": {
      "text/plain": [
       "bool"
      ]
     },
     "execution_count": 8,
     "metadata": {},
     "output_type": "execute_result"
    }
   ],
   "source": [
    "type(passing)"
   ]
  },
  {
   "cell_type": "code",
   "execution_count": 9,
   "id": "bcae1276-d27e-49da-ab52-a9258a106e17",
   "metadata": {},
   "outputs": [],
   "source": [
    "# pass is a reserved word, you can't use it as a variable"
   ]
  },
  {
   "cell_type": "code",
   "execution_count": 10,
   "id": "9c17cec3-8658-403d-a807-e9f47591e4dd",
   "metadata": {},
   "outputs": [
    {
     "data": {
      "text/plain": [
       "12"
      ]
     },
     "execution_count": 10,
     "metadata": {},
     "output_type": "execute_result"
    }
   ],
   "source": [
    "len(studentName)"
   ]
  },
  {
   "cell_type": "code",
   "execution_count": 11,
   "id": "580465bb-288c-4a0b-ae24-722b6ed988d0",
   "metadata": {},
   "outputs": [
    {
     "data": {
      "text/plain": [
       "'MICKEY MOUSE'"
      ]
     },
     "execution_count": 11,
     "metadata": {},
     "output_type": "execute_result"
    }
   ],
   "source": [
    "studentName.upper()"
   ]
  },
  {
   "cell_type": "code",
   "execution_count": 12,
   "id": "e414c129-f5d6-400c-a76e-f4876d9d02ce",
   "metadata": {},
   "outputs": [
    {
     "name": "stdout",
     "output_type": "stream",
     "text": [
      "Mickey Mouse\n"
     ]
    }
   ],
   "source": [
    "print(studentName) # .upper did not mutate studentName"
   ]
  },
  {
   "cell_type": "code",
   "execution_count": 13,
   "id": "d44a46b1-a251-497c-83d0-a1275af2cbf5",
   "metadata": {},
   "outputs": [
    {
     "data": {
      "text/plain": [
       "'mickey mouse'"
      ]
     },
     "execution_count": 13,
     "metadata": {},
     "output_type": "execute_result"
    }
   ],
   "source": [
    "studentName.upper().lower()"
   ]
  },
  {
   "cell_type": "code",
   "execution_count": 15,
   "id": "050e41ef-5303-4d74-a9a7-43dbe57c7bb2",
   "metadata": {},
   "outputs": [],
   "source": [
    "studentName = studentName.lower()"
   ]
  },
  {
   "cell_type": "code",
   "execution_count": 16,
   "id": "720385ad-6dde-46fc-b317-6dbf7dd99d16",
   "metadata": {},
   "outputs": [
    {
     "name": "stdout",
     "output_type": "stream",
     "text": [
      "mickey mouse\n"
     ]
    }
   ],
   "source": [
    "print(studentName)"
   ]
  },
  {
   "cell_type": "code",
   "execution_count": 17,
   "id": "10274ce2-2fbc-4cb6-a1be-023cd9c2e89f",
   "metadata": {},
   "outputs": [
    {
     "data": {
      "text/plain": [
       "1"
      ]
     },
     "execution_count": 17,
     "metadata": {},
     "output_type": "execute_result"
    }
   ],
   "source": [
    "studentName.find(\"i\")"
   ]
  },
  {
   "cell_type": "code",
   "execution_count": 18,
   "id": "d363e5a4-87ad-49d5-8c2a-fd3657c1d3cf",
   "metadata": {},
   "outputs": [
    {
     "data": {
      "text/plain": [
       "-1"
      ]
     },
     "execution_count": 18,
     "metadata": {},
     "output_type": "execute_result"
    }
   ],
   "source": [
    "studentName.find(\"a\")"
   ]
  }
 ],
 "metadata": {
  "kernelspec": {
   "display_name": "Python 3 (ipykernel)",
   "language": "python",
   "name": "python3"
  },
  "language_info": {
   "codemirror_mode": {
    "name": "ipython",
    "version": 3
   },
   "file_extension": ".py",
   "mimetype": "text/x-python",
   "name": "python",
   "nbconvert_exporter": "python",
   "pygments_lexer": "ipython3",
   "version": "3.11.7"
  }
 },
 "nbformat": 4,
 "nbformat_minor": 5
}
